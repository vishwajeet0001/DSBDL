{
 "cells": [
  {
   "cell_type": "code",
   "execution_count": 3,
   "id": "8a7d1409-3250-43a3-b881-8ea78f4c313c",
   "metadata": {},
   "outputs": [],
   "source": [
    "import pandas as pd\n",
    "import numpy as np\n",
    "import seaborn as sns"
   ]
  },
  {
   "cell_type": "code",
   "execution_count": 4,
   "id": "8f3698c1-4ef8-4feb-ac57-e2a8e3b8c0c3",
   "metadata": {},
   "outputs": [],
   "source": [
    "data = {\n",
    "    'Student_ID': range(1, 101),\n",
    "    'Math_Score': np.random.randint(40, 100, 100),\n",
    "    'English_Score': np.random.randint(40, 100, 100),\n",
    "    'Science_Score': np.random.randint(40, 100, 100),\n",
    "    'Attendance': np.random.choice([0, 1], size=100)\n",
    "}"
   ]
  },
  {
   "cell_type": "code",
   "execution_count": 5,
   "id": "4bfbc668-e40c-4c72-b2da-baacd51f12fd",
   "metadata": {},
   "outputs": [],
   "source": [
    "df = pd.DataFrame(data)"
   ]
  },
  {
   "cell_type": "code",
   "execution_count": 6,
   "id": "b1a98a5a-04aa-4411-8ba6-00927850b580",
   "metadata": {},
   "outputs": [
    {
     "data": {
      "text/html": [
       "<div>\n",
       "<style scoped>\n",
       "    .dataframe tbody tr th:only-of-type {\n",
       "        vertical-align: middle;\n",
       "    }\n",
       "\n",
       "    .dataframe tbody tr th {\n",
       "        vertical-align: top;\n",
       "    }\n",
       "\n",
       "    .dataframe thead th {\n",
       "        text-align: right;\n",
       "    }\n",
       "</style>\n",
       "<table border=\"1\" class=\"dataframe\">\n",
       "  <thead>\n",
       "    <tr style=\"text-align: right;\">\n",
       "      <th></th>\n",
       "      <th>Student_ID</th>\n",
       "      <th>Math_Score</th>\n",
       "      <th>English_Score</th>\n",
       "      <th>Science_Score</th>\n",
       "      <th>Attendance</th>\n",
       "    </tr>\n",
       "  </thead>\n",
       "  <tbody>\n",
       "    <tr>\n",
       "      <th>0</th>\n",
       "      <td>1</td>\n",
       "      <td>73</td>\n",
       "      <td>68</td>\n",
       "      <td>59</td>\n",
       "      <td>0</td>\n",
       "    </tr>\n",
       "    <tr>\n",
       "      <th>1</th>\n",
       "      <td>2</td>\n",
       "      <td>70</td>\n",
       "      <td>67</td>\n",
       "      <td>56</td>\n",
       "      <td>1</td>\n",
       "    </tr>\n",
       "    <tr>\n",
       "      <th>2</th>\n",
       "      <td>3</td>\n",
       "      <td>45</td>\n",
       "      <td>46</td>\n",
       "      <td>81</td>\n",
       "      <td>1</td>\n",
       "    </tr>\n",
       "    <tr>\n",
       "      <th>3</th>\n",
       "      <td>4</td>\n",
       "      <td>85</td>\n",
       "      <td>73</td>\n",
       "      <td>77</td>\n",
       "      <td>1</td>\n",
       "    </tr>\n",
       "    <tr>\n",
       "      <th>4</th>\n",
       "      <td>5</td>\n",
       "      <td>66</td>\n",
       "      <td>40</td>\n",
       "      <td>63</td>\n",
       "      <td>1</td>\n",
       "    </tr>\n",
       "    <tr>\n",
       "      <th>...</th>\n",
       "      <td>...</td>\n",
       "      <td>...</td>\n",
       "      <td>...</td>\n",
       "      <td>...</td>\n",
       "      <td>...</td>\n",
       "    </tr>\n",
       "    <tr>\n",
       "      <th>95</th>\n",
       "      <td>96</td>\n",
       "      <td>95</td>\n",
       "      <td>86</td>\n",
       "      <td>70</td>\n",
       "      <td>0</td>\n",
       "    </tr>\n",
       "    <tr>\n",
       "      <th>96</th>\n",
       "      <td>97</td>\n",
       "      <td>64</td>\n",
       "      <td>44</td>\n",
       "      <td>54</td>\n",
       "      <td>0</td>\n",
       "    </tr>\n",
       "    <tr>\n",
       "      <th>97</th>\n",
       "      <td>98</td>\n",
       "      <td>57</td>\n",
       "      <td>96</td>\n",
       "      <td>44</td>\n",
       "      <td>0</td>\n",
       "    </tr>\n",
       "    <tr>\n",
       "      <th>98</th>\n",
       "      <td>99</td>\n",
       "      <td>98</td>\n",
       "      <td>73</td>\n",
       "      <td>42</td>\n",
       "      <td>0</td>\n",
       "    </tr>\n",
       "    <tr>\n",
       "      <th>99</th>\n",
       "      <td>100</td>\n",
       "      <td>85</td>\n",
       "      <td>43</td>\n",
       "      <td>84</td>\n",
       "      <td>1</td>\n",
       "    </tr>\n",
       "  </tbody>\n",
       "</table>\n",
       "<p>100 rows × 5 columns</p>\n",
       "</div>"
      ],
      "text/plain": [
       "    Student_ID  Math_Score  English_Score  Science_Score  Attendance\n",
       "0            1          73             68             59           0\n",
       "1            2          70             67             56           1\n",
       "2            3          45             46             81           1\n",
       "3            4          85             73             77           1\n",
       "4            5          66             40             63           1\n",
       "..         ...         ...            ...            ...         ...\n",
       "95          96          95             86             70           0\n",
       "96          97          64             44             54           0\n",
       "97          98          57             96             44           0\n",
       "98          99          98             73             42           0\n",
       "99         100          85             43             84           1\n",
       "\n",
       "[100 rows x 5 columns]"
      ]
     },
     "execution_count": 6,
     "metadata": {},
     "output_type": "execute_result"
    }
   ],
   "source": [
    "df"
   ]
  },
  {
   "cell_type": "code",
   "execution_count": 7,
   "id": "5f9c447e-c2f4-402d-88af-cb01788ca3c5",
   "metadata": {},
   "outputs": [
    {
     "data": {
      "text/plain": [
       "Student_ID       0\n",
       "Math_Score       0\n",
       "English_Score    0\n",
       "Science_Score    0\n",
       "Attendance       0\n",
       "dtype: int64"
      ]
     },
     "execution_count": 7,
     "metadata": {},
     "output_type": "execute_result"
    }
   ],
   "source": [
    "df.isnull().sum()"
   ]
  },
  {
   "cell_type": "code",
   "execution_count": 8,
   "id": "07f89303-e202-46d4-9e09-3027618b2360",
   "metadata": {},
   "outputs": [
    {
     "data": {
      "text/plain": [
       "Student_ID       int64\n",
       "Math_Score       int32\n",
       "English_Score    int32\n",
       "Science_Score    int32\n",
       "Attendance       int32\n",
       "dtype: object"
      ]
     },
     "execution_count": 8,
     "metadata": {},
     "output_type": "execute_result"
    }
   ],
   "source": [
    "df.dtypes"
   ]
  },
  {
   "cell_type": "code",
   "execution_count": 9,
   "id": "8f3f7500-8eda-4e20-9c00-76590be61c7d",
   "metadata": {},
   "outputs": [
    {
     "data": {
      "text/plain": [
       "<Axes: >"
      ]
     },
     "execution_count": 9,
     "metadata": {},
     "output_type": "execute_result"
    },
    {
     "data": {
      "image/png": "[encoded data removed]",
      "text/plain": [
       "<Figure size 640x480 with 1 Axes>"
      ]
     },
     "metadata": {},
     "output_type": "display_data"
    }
   ],
   "source": [
    "sns.boxplot(data=df[['Math_Score', 'English_Score', 'Science_Score']])"
   ]
  },
  {
   "cell_type": "code",
   "execution_count": 10,
   "id": "c65f3e43-29f9-472c-a37b-c02fc26c1b78",
   "metadata": {},
   "outputs": [
    {
     "data": {
      "text/plain": [
       "0      73\n",
       "1      70\n",
       "2      45\n",
       "3      85\n",
       "4      66\n",
       "     ... \n",
       "95    195\n",
       "96     64\n",
       "97     57\n",
       "98    198\n",
       "99     85\n",
       "Name: Math_Score, Length: 100, dtype: int32"
      ]
     },
     "execution_count": 10,
     "metadata": {},
     "output_type": "execute_result"
    }
   ],
   "source": [
    "# outlier nhi h toh khud se daal rhe h\n",
    "df.loc[df['Math_Score'] > 85, 'Math_Score'] += 100\n",
    "df['Math_Score']"
   ]
  },
  {
   "cell_type": "code",
   "execution_count": 11,
   "id": "bd883d8c-76ae-4442-81b7-6a3eb1366687",
   "metadata": {},
   "outputs": [
    {
     "data": {
      "text/plain": [
       "<Axes: >"
      ]
     },
     "execution_count": 11,
     "metadata": {},
     "output_type": "execute_result"
    },
    {
     "data": {
      "image/png": "[encoded data removed]",
      "text/plain": [
       "<Figure size 640x480 with 1 Axes>"
      ]
     },
     "metadata": {},
     "output_type": "display_data"
    }
   ],
   "source": [
    "sns.boxplot(data=df[['Math_Score', 'English_Score', 'Science_Score']])"
   ]
  },
  {
   "cell_type": "code",
   "execution_count": 12,
   "id": "1e154c95-5a6c-4693-9a2d-80dce48fd303",
   "metadata": {},
   "outputs": [
    {
     "data": {
      "text/plain": [
       "(55.75, 85.0)"
      ]
     },
     "execution_count": 12,
     "metadata": {},
     "output_type": "execute_result"
    }
   ],
   "source": [
    "#IQR\n",
    "\n",
    "q1=df.Math_Score.quantile(0.25)\n",
    "q2=df.Math_Score.quantile(0.75)\n",
    "q1,q2"
   ]
  },
  {
   "cell_type": "code",
   "execution_count": 13,
   "id": "8a2dba3b-37a8-47f5-b366-6dd7ba2305c3",
   "metadata": {},
   "outputs": [
    {
     "data": {
      "text/plain": [
       "29.25"
      ]
     },
     "execution_count": 13,
     "metadata": {},
     "output_type": "execute_result"
    }
   ],
   "source": [
    "IQR=q2-q1\n",
    "IQR\n",
    "#iqr is diff between 25% and 75% value"
   ]
  },
  {
   "cell_type": "code",
   "execution_count": 14,
   "id": "01acbf0b-772a-4633-b398-07383cc6542a",
   "metadata": {},
   "outputs": [
    {
     "data": {
      "text/plain": [
       "(11.875, 128.875)"
      ]
     },
     "execution_count": 14,
     "metadata": {},
     "output_type": "execute_result"
    }
   ],
   "source": [
    "lower_limit=q1-1.5*IQR\n",
    "upper_limit=q2+1.5*IQR\n",
    "lower_limit,upper_limit"
   ]
  },
  {
   "cell_type": "code",
   "execution_count": 15,
   "id": "73c2a26a-9cb9-4d61-972c-fd7b76586cf2",
   "metadata": {},
   "outputs": [
    {
     "data": {
      "text/html": [
       "<div>\n",
       "<style scoped>\n",
       "    .dataframe tbody tr th:only-of-type {\n",
       "        vertical-align: middle;\n",
       "    }\n",
       "\n",
       "    .dataframe tbody tr th {\n",
       "        vertical-align: top;\n",
       "    }\n",
       "\n",
       "    .dataframe thead th {\n",
       "        text-align: right;\n",
       "    }\n",
       "</style>\n",
       "<table border=\"1\" class=\"dataframe\">\n",
       "  <thead>\n",
       "    <tr style=\"text-align: right;\">\n",
       "      <th></th>\n",
       "      <th>Student_ID</th>\n",
       "      <th>Math_Score</th>\n",
       "      <th>English_Score</th>\n",
       "      <th>Science_Score</th>\n",
       "      <th>Attendance</th>\n",
       "    </tr>\n",
       "  </thead>\n",
       "  <tbody>\n",
       "    <tr>\n",
       "      <th>11</th>\n",
       "      <td>12</td>\n",
       "      <td>193</td>\n",
       "      <td>49</td>\n",
       "      <td>88</td>\n",
       "      <td>0</td>\n",
       "    </tr>\n",
       "    <tr>\n",
       "      <th>20</th>\n",
       "      <td>21</td>\n",
       "      <td>193</td>\n",
       "      <td>63</td>\n",
       "      <td>96</td>\n",
       "      <td>1</td>\n",
       "    </tr>\n",
       "    <tr>\n",
       "      <th>22</th>\n",
       "      <td>23</td>\n",
       "      <td>194</td>\n",
       "      <td>78</td>\n",
       "      <td>90</td>\n",
       "      <td>0</td>\n",
       "    </tr>\n",
       "    <tr>\n",
       "      <th>26</th>\n",
       "      <td>27</td>\n",
       "      <td>199</td>\n",
       "      <td>52</td>\n",
       "      <td>80</td>\n",
       "      <td>0</td>\n",
       "    </tr>\n",
       "    <tr>\n",
       "      <th>29</th>\n",
       "      <td>30</td>\n",
       "      <td>199</td>\n",
       "      <td>56</td>\n",
       "      <td>93</td>\n",
       "      <td>1</td>\n",
       "    </tr>\n",
       "    <tr>\n",
       "      <th>38</th>\n",
       "      <td>39</td>\n",
       "      <td>199</td>\n",
       "      <td>88</td>\n",
       "      <td>65</td>\n",
       "      <td>1</td>\n",
       "    </tr>\n",
       "    <tr>\n",
       "      <th>41</th>\n",
       "      <td>42</td>\n",
       "      <td>195</td>\n",
       "      <td>92</td>\n",
       "      <td>65</td>\n",
       "      <td>1</td>\n",
       "    </tr>\n",
       "    <tr>\n",
       "      <th>43</th>\n",
       "      <td>44</td>\n",
       "      <td>192</td>\n",
       "      <td>90</td>\n",
       "      <td>53</td>\n",
       "      <td>1</td>\n",
       "    </tr>\n",
       "    <tr>\n",
       "      <th>49</th>\n",
       "      <td>50</td>\n",
       "      <td>189</td>\n",
       "      <td>94</td>\n",
       "      <td>42</td>\n",
       "      <td>0</td>\n",
       "    </tr>\n",
       "    <tr>\n",
       "      <th>51</th>\n",
       "      <td>52</td>\n",
       "      <td>195</td>\n",
       "      <td>44</td>\n",
       "      <td>45</td>\n",
       "      <td>1</td>\n",
       "    </tr>\n",
       "    <tr>\n",
       "      <th>57</th>\n",
       "      <td>58</td>\n",
       "      <td>198</td>\n",
       "      <td>92</td>\n",
       "      <td>90</td>\n",
       "      <td>0</td>\n",
       "    </tr>\n",
       "    <tr>\n",
       "      <th>59</th>\n",
       "      <td>60</td>\n",
       "      <td>195</td>\n",
       "      <td>41</td>\n",
       "      <td>83</td>\n",
       "      <td>0</td>\n",
       "    </tr>\n",
       "    <tr>\n",
       "      <th>60</th>\n",
       "      <td>61</td>\n",
       "      <td>194</td>\n",
       "      <td>78</td>\n",
       "      <td>69</td>\n",
       "      <td>1</td>\n",
       "    </tr>\n",
       "    <tr>\n",
       "      <th>65</th>\n",
       "      <td>66</td>\n",
       "      <td>195</td>\n",
       "      <td>69</td>\n",
       "      <td>82</td>\n",
       "      <td>1</td>\n",
       "    </tr>\n",
       "    <tr>\n",
       "      <th>66</th>\n",
       "      <td>67</td>\n",
       "      <td>196</td>\n",
       "      <td>56</td>\n",
       "      <td>91</td>\n",
       "      <td>0</td>\n",
       "    </tr>\n",
       "    <tr>\n",
       "      <th>70</th>\n",
       "      <td>71</td>\n",
       "      <td>190</td>\n",
       "      <td>92</td>\n",
       "      <td>79</td>\n",
       "      <td>0</td>\n",
       "    </tr>\n",
       "    <tr>\n",
       "      <th>74</th>\n",
       "      <td>75</td>\n",
       "      <td>189</td>\n",
       "      <td>44</td>\n",
       "      <td>64</td>\n",
       "      <td>1</td>\n",
       "    </tr>\n",
       "    <tr>\n",
       "      <th>75</th>\n",
       "      <td>76</td>\n",
       "      <td>197</td>\n",
       "      <td>41</td>\n",
       "      <td>68</td>\n",
       "      <td>1</td>\n",
       "    </tr>\n",
       "    <tr>\n",
       "      <th>76</th>\n",
       "      <td>77</td>\n",
       "      <td>192</td>\n",
       "      <td>58</td>\n",
       "      <td>63</td>\n",
       "      <td>0</td>\n",
       "    </tr>\n",
       "    <tr>\n",
       "      <th>85</th>\n",
       "      <td>86</td>\n",
       "      <td>199</td>\n",
       "      <td>52</td>\n",
       "      <td>68</td>\n",
       "      <td>1</td>\n",
       "    </tr>\n",
       "    <tr>\n",
       "      <th>90</th>\n",
       "      <td>91</td>\n",
       "      <td>192</td>\n",
       "      <td>96</td>\n",
       "      <td>48</td>\n",
       "      <td>0</td>\n",
       "    </tr>\n",
       "    <tr>\n",
       "      <th>93</th>\n",
       "      <td>94</td>\n",
       "      <td>186</td>\n",
       "      <td>77</td>\n",
       "      <td>91</td>\n",
       "      <td>1</td>\n",
       "    </tr>\n",
       "    <tr>\n",
       "      <th>95</th>\n",
       "      <td>96</td>\n",
       "      <td>195</td>\n",
       "      <td>86</td>\n",
       "      <td>70</td>\n",
       "      <td>0</td>\n",
       "    </tr>\n",
       "    <tr>\n",
       "      <th>98</th>\n",
       "      <td>99</td>\n",
       "      <td>198</td>\n",
       "      <td>73</td>\n",
       "      <td>42</td>\n",
       "      <td>0</td>\n",
       "    </tr>\n",
       "  </tbody>\n",
       "</table>\n",
       "</div>"
      ],
      "text/plain": [
       "    Student_ID  Math_Score  English_Score  Science_Score  Attendance\n",
       "11          12         193             49             88           0\n",
       "20          21         193             63             96           1\n",
       "22          23         194             78             90           0\n",
       "26          27         199             52             80           0\n",
       "29          30         199             56             93           1\n",
       "38          39         199             88             65           1\n",
       "41          42         195             92             65           1\n",
       "43          44         192             90             53           1\n",
       "49          50         189             94             42           0\n",
       "51          52         195             44             45           1\n",
       "57          58         198             92             90           0\n",
       "59          60         195             41             83           0\n",
       "60          61         194             78             69           1\n",
       "65          66         195             69             82           1\n",
       "66          67         196             56             91           0\n",
       "70          71         190             92             79           0\n",
       "74          75         189             44             64           1\n",
       "75          76         197             41             68           1\n",
       "76          77         192             58             63           0\n",
       "85          86         199             52             68           1\n",
       "90          91         192             96             48           0\n",
       "93          94         186             77             91           1\n",
       "95          96         195             86             70           0\n",
       "98          99         198             73             42           0"
      ]
     },
     "execution_count": 15,
     "metadata": {},
     "output_type": "execute_result"
    }
   ],
   "source": [
    "df[(df.Math_Score<lower_limit) | (df.Math_Score>upper_limit)]\n",
    "\n",
    "#yeah yeah outliers value h dataset me"
   ]
  },
  {
   "cell_type": "code",
   "execution_count": 22,
   "id": "f57516c7-00b5-42ae-ab37-fcc80e73b64c",
   "metadata": {},
   "outputs": [
    {
     "data": {
      "text/html": [
       "<div>\n",
       "<style scoped>\n",
       "    .dataframe tbody tr th:only-of-type {\n",
       "        vertical-align: middle;\n",
       "    }\n",
       "\n",
       "    .dataframe tbody tr th {\n",
       "        vertical-align: top;\n",
       "    }\n",
       "\n",
       "    .dataframe thead th {\n",
       "        text-align: right;\n",
       "    }\n",
       "</style>\n",
       "<table border=\"1\" class=\"dataframe\">\n",
       "  <thead>\n",
       "    <tr style=\"text-align: right;\">\n",
       "      <th></th>\n",
       "      <th>Student_ID</th>\n",
       "      <th>Math_Score</th>\n",
       "      <th>English_Score</th>\n",
       "      <th>Science_Score</th>\n",
       "      <th>Attendance</th>\n",
       "      <th>Log_Math_Score</th>\n",
       "    </tr>\n",
       "  </thead>\n",
       "  <tbody>\n",
       "    <tr>\n",
       "      <th>0</th>\n",
       "      <td>1</td>\n",
       "      <td>73</td>\n",
       "      <td>68</td>\n",
       "      <td>59</td>\n",
       "      <td>0</td>\n",
       "      <td>4.290459</td>\n",
       "    </tr>\n",
       "    <tr>\n",
       "      <th>1</th>\n",
       "      <td>2</td>\n",
       "      <td>70</td>\n",
       "      <td>67</td>\n",
       "      <td>56</td>\n",
       "      <td>1</td>\n",
       "      <td>4.248495</td>\n",
       "    </tr>\n",
       "    <tr>\n",
       "      <th>2</th>\n",
       "      <td>3</td>\n",
       "      <td>45</td>\n",
       "      <td>46</td>\n",
       "      <td>81</td>\n",
       "      <td>1</td>\n",
       "      <td>3.806662</td>\n",
       "    </tr>\n",
       "    <tr>\n",
       "      <th>3</th>\n",
       "      <td>4</td>\n",
       "      <td>85</td>\n",
       "      <td>73</td>\n",
       "      <td>77</td>\n",
       "      <td>1</td>\n",
       "      <td>4.442651</td>\n",
       "    </tr>\n",
       "    <tr>\n",
       "      <th>4</th>\n",
       "      <td>5</td>\n",
       "      <td>66</td>\n",
       "      <td>40</td>\n",
       "      <td>63</td>\n",
       "      <td>1</td>\n",
       "      <td>4.189655</td>\n",
       "    </tr>\n",
       "    <tr>\n",
       "      <th>...</th>\n",
       "      <td>...</td>\n",
       "      <td>...</td>\n",
       "      <td>...</td>\n",
       "      <td>...</td>\n",
       "      <td>...</td>\n",
       "      <td>...</td>\n",
       "    </tr>\n",
       "    <tr>\n",
       "      <th>92</th>\n",
       "      <td>93</td>\n",
       "      <td>68</td>\n",
       "      <td>55</td>\n",
       "      <td>95</td>\n",
       "      <td>0</td>\n",
       "      <td>4.219508</td>\n",
       "    </tr>\n",
       "    <tr>\n",
       "      <th>94</th>\n",
       "      <td>95</td>\n",
       "      <td>46</td>\n",
       "      <td>42</td>\n",
       "      <td>51</td>\n",
       "      <td>0</td>\n",
       "      <td>3.828641</td>\n",
       "    </tr>\n",
       "    <tr>\n",
       "      <th>96</th>\n",
       "      <td>97</td>\n",
       "      <td>64</td>\n",
       "      <td>44</td>\n",
       "      <td>54</td>\n",
       "      <td>0</td>\n",
       "      <td>4.158883</td>\n",
       "    </tr>\n",
       "    <tr>\n",
       "      <th>97</th>\n",
       "      <td>98</td>\n",
       "      <td>57</td>\n",
       "      <td>96</td>\n",
       "      <td>44</td>\n",
       "      <td>0</td>\n",
       "      <td>4.043051</td>\n",
       "    </tr>\n",
       "    <tr>\n",
       "      <th>99</th>\n",
       "      <td>100</td>\n",
       "      <td>85</td>\n",
       "      <td>43</td>\n",
       "      <td>84</td>\n",
       "      <td>1</td>\n",
       "      <td>4.442651</td>\n",
       "    </tr>\n",
       "  </tbody>\n",
       "</table>\n",
       "<p>76 rows × 6 columns</p>\n",
       "</div>"
      ],
      "text/plain": [
       "    Student_ID  Math_Score  English_Score  Science_Score  Attendance  \\\n",
       "0            1          73             68             59           0   \n",
       "1            2          70             67             56           1   \n",
       "2            3          45             46             81           1   \n",
       "3            4          85             73             77           1   \n",
       "4            5          66             40             63           1   \n",
       "..         ...         ...            ...            ...         ...   \n",
       "92          93          68             55             95           0   \n",
       "94          95          46             42             51           0   \n",
       "96          97          64             44             54           0   \n",
       "97          98          57             96             44           0   \n",
       "99         100          85             43             84           1   \n",
       "\n",
       "    Log_Math_Score  \n",
       "0         4.290459  \n",
       "1         4.248495  \n",
       "2         3.806662  \n",
       "3         4.442651  \n",
       "4         4.189655  \n",
       "..             ...  \n",
       "92        4.219508  \n",
       "94        3.828641  \n",
       "96        4.158883  \n",
       "97        4.043051  \n",
       "99        4.442651  \n",
       "\n",
       "[76 rows x 6 columns]"
      ]
     },
     "execution_count": 22,
     "metadata": {},
     "output_type": "execute_result"
    }
   ],
   "source": [
    "df[(df.Math_Score>lower_limit) & (df.Math_Score<upper_limit)]\n",
    "#issey outlier hatt gye"
   ]
  },
  {
   "cell_type": "code",
   "execution_count": 24,
   "id": "5b74ec54-3c22-43ba-9391-dd7f16f85194",
   "metadata": {},
   "outputs": [
    {
     "data": {
      "text/plain": [
       "<Axes: xlabel='Math_Score', ylabel='Count'>"
      ]
     },
     "execution_count": 24,
     "metadata": {},
     "output_type": "execute_result"
    },
    {
     "data": {
      "image/png": "[encoded data removed]",
      "text/plain": [
       "<Figure size 640x480 with 1 Axes>"
      ]
     },
     "metadata": {},
     "output_type": "display_data"
    }
   ],
   "source": [
    "# data transformation\n",
    "\n",
    "sns.histplot(df['Math_Score'], kde=True)"
   ]
  },
  {
   "cell_type": "code",
   "execution_count": 25,
   "id": "3a519ef6-f103-4c41-b7e3-7e3a50df25b3",
   "metadata": {},
   "outputs": [
    {
     "data": {
      "text/plain": [
       "<Axes: xlabel='Log_Math_Score', ylabel='Count'>"
      ]
     },
     "execution_count": 25,
     "metadata": {},
     "output_type": "execute_result"
    },
    {
     "data": {
      "image/png": "[encoded data removed]",
      "text/plain": [
       "<Figure size 640x480 with 1 Axes>"
      ]
     },
     "metadata": {},
     "output_type": "display_data"
    }
   ],
   "source": [
    "#log distributin\n",
    "df['Log_Math_Score'] = np.log(df['Math_Score'])\n",
    "sns.histplot(df['Log_Math_Score'], kde=True)"
   ]
  }
 ],
 "metadata": {
  "kernelspec": {
   "display_name": "Python 3 (ipykernel)",
   "language": "python",
   "name": "python3"
  },
  "language_info": {
   "codemirror_mode": {
    "name": "ipython",
    "version": 3
   },
   "file_extension": ".py",
   "mimetype": "text/x-python",
   "name": "python",
   "nbconvert_exporter": "python",
   "pygments_lexer": "ipython3",
   "version": "3.10.2"
  }
 },
 "nbformat": 4,
 "nbformat_minor": 5
}
